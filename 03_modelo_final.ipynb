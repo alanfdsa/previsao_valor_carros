{
 "cells": [
  {
   "cell_type": "markdown",
   "id": "993c2f97",
   "metadata": {
    "heading_collapsed": true
   },
   "source": [
    "# Pacotes"
   ]
  },
  {
   "cell_type": "code",
   "execution_count": 1,
   "id": "01bf7de1",
   "metadata": {
    "ExecuteTime": {
     "end_time": "2022-06-03T19:34:12.018664Z",
     "start_time": "2022-06-03T19:34:11.632495Z"
    },
    "hidden": true
   },
   "outputs": [],
   "source": [
    "import warnings\n",
    "warnings.filterwarnings(\"ignore\")\n",
    "import pandas as pd\n",
    "import numpy as np\n",
    "import joblib as jb"
   ]
  },
  {
   "cell_type": "markdown",
   "id": "43d96970",
   "metadata": {
    "heading_collapsed": true
   },
   "source": [
    "# Lendo modelo final"
   ]
  },
  {
   "cell_type": "code",
   "execution_count": 2,
   "id": "65aca111",
   "metadata": {
    "ExecuteTime": {
     "end_time": "2022-06-03T19:34:13.025738Z",
     "start_time": "2022-06-03T19:34:12.630860Z"
    },
    "hidden": true
   },
   "outputs": [],
   "source": [
    "nome_modelo='previsão_preços_automóveis'\n",
    "arquivo_modelo = jb.load(nome_modelo+'.joblib')\n",
    "modelo_precos = arquivo_modelo['model']\n",
    "metrica = arquivo_modelo['metadata']['metrics']['r2']"
   ]
  },
  {
   "cell_type": "markdown",
   "id": "98a64a68",
   "metadata": {
    "heading_collapsed": true
   },
   "source": [
    "# Funções"
   ]
  },
  {
   "cell_type": "code",
   "execution_count": 4,
   "id": "7899d4ef",
   "metadata": {
    "ExecuteTime": {
     "end_time": "2022-06-03T19:34:14.874754Z",
     "start_time": "2022-06-03T19:34:14.863745Z"
    },
    "hidden": true
   },
   "outputs": [],
   "source": [
    "def main():\n",
    "    print('*'*100)\n",
    "    print(' '*25,'Sistema de previsão de valores de automóveis')\n",
    "    print('*'*100,'\\n')\n",
    "    \n",
    "    ano = float(input('=> Qual ano do seu veículo? '))\n",
    "    km  = float(input('=> Qual a KM do seu veículo? '))\n",
    "    automático  = 1 if input('=> Seu carro é automático? (S/N) ').upper() == 'S' else 0\n",
    "    diesel   = 1 if input('=> Seu carro é diesel? (S/N) ').upper()  == 'S' else 0\n",
    "    flex     = 1 if input('=> Seu carro é flex? (S/N) ').upper()  == 'S' else 0\n",
    "    gasolina = 1 if input('=> Seu carro é gasolina? (S/N) ').upper()  == 'S' else 0\n",
    "\n",
    "    km  = np.log(km) if km > 0 else 0\n",
    "    ano = np.log(ano) if ano > 0 else 0\n",
    "\n",
    "    dados = np.array([[0,ano,km,automático,diesel,flex,gasolina]])\n",
    "\n",
    "    valor_previsto = round(np.exp(modelo_precos.predict(dados)[0]))\n",
    "\n",
    "    print(f\"\\n==> O seu veículo custa aproximadamente R${valor_previsto}\")\n",
    "\n",
    "    print(f\"\\n**Indice de acerto de {round(metrica*100,2)}%**\")"
   ]
  },
  {
   "cell_type": "markdown",
   "id": "f9488a4a",
   "metadata": {
    "heading_collapsed": true
   },
   "source": [
    "# Executando modelo"
   ]
  },
  {
   "cell_type": "code",
   "execution_count": 5,
   "id": "dd7aca15",
   "metadata": {
    "ExecuteTime": {
     "end_time": "2022-06-03T19:34:22.704524Z",
     "start_time": "2022-06-03T19:34:16.567488Z"
    },
    "hidden": true
   },
   "outputs": [
    {
     "name": "stdout",
     "output_type": "stream",
     "text": [
      "****************************************************************************************************\n",
      "                          Sistema de previsão de valores de automóveis\n",
      "**************************************************************************************************** \n",
      "\n",
      "=> Qual ano do seu veículo? 2021\n",
      "=> Qual a KM do seu veículo? 9420\n",
      "=> Seu carro é automático? (S/N) s\n",
      "=> Seu carro é diesel? (S/N) n\n",
      "=> Seu carro é flex? (S/N) s\n",
      "=> Seu carro é gasolina? (S/N) n\n",
      "\n",
      "==> O seu veículo custa aproximadamente R$111384\n",
      "\n",
      "**Indice de acerto de 78.41%**\n"
     ]
    }
   ],
   "source": [
    "main()"
   ]
  },
  {
   "cell_type": "code",
   "execution_count": null,
   "id": "37dcc5a6",
   "metadata": {
    "hidden": true
   },
   "outputs": [],
   "source": []
  }
 ],
 "metadata": {
  "kernelspec": {
   "display_name": "Python 3 (ipykernel)",
   "language": "python",
   "name": "python3"
  },
  "language_info": {
   "codemirror_mode": {
    "name": "ipython",
    "version": 3
   },
   "file_extension": ".py",
   "mimetype": "text/x-python",
   "name": "python",
   "nbconvert_exporter": "python",
   "pygments_lexer": "ipython3",
   "version": "3.9.7"
  }
 },
 "nbformat": 4,
 "nbformat_minor": 5
}
